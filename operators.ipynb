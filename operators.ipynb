{
 "cells": [
  {
   "cell_type": "markdown",
   "id": "4a0916f0",
   "metadata": {},
   "source": [
    "# Python Operators"
   ]
  },
  {
   "cell_type": "markdown",
   "id": "72bfd137",
   "metadata": {},
   "source": [
    "- Arithmetic operators\n",
    "- Assignment operators\n",
    "C- omparison operators\n",
    "- Logical operators\n",
    "- Identity operators\n",
    "- Membership operators\n",
    "- Bitwise operators"
   ]
  },
  {
   "cell_type": "markdown",
   "id": "a42c961e-c10a-4aa0-bc33-494fedb1dfdf",
   "metadata": {},
   "source": [
    "## Arithmetic operators\n",
    "| Operator | Name            | Example |\n",
    "|----------|-----------------|---------|\n",
    "| +        | Addition        | x + y   |\n",
    "| -        | Subtraction     | x - y   |\n",
    "| *        | Multiplication  | x * y   |\n",
    "| /        | Division        | x / y   |\n",
    "| %        | Modulus         | x % y   |\n",
    "| **       | Exponentiation  | x ** y  |\n",
    "| //       | Floor division  | x // y  |\n"
   ]
  },
  {
   "cell_type": "markdown",
   "id": "4a563801-009b-40f5-8df0-2d1e0be93add",
   "metadata": {},
   "source": [
    "### Assignment Operators\n",
    "\n",
    "| Operator | Example       | Same As     |\n",
    "|----------|--------------|-------------|\n",
    "| =        | x = 5        | x = 5       |\n",
    "| +=       | x += 3       | x = x + 3   |\n",
    "| -=       | x -= 3       | x = x - 3   |\n",
    "| *=       | x *= 3       | x = x * 3   |\n",
    "| /=       | x /= 3       | x = x / 3   |\n",
    "| %=       | x %= 3       | x = x % 3   |\n",
    "| //=      | x //= 3      | x = x // 3  |\n",
    "| **=      | x **= 3      | x = x ** 3  |\n",
    "| &=       | x &= 3       | x = x & 3   |\n",
    "| \\|=      | x \\|= 3      | x = x \\| 3  |\n",
    "| ^=       | x ^= 3       | x = x ^ 3   |\n",
    "| >>=      | x >>= 3      | x = x >> 3  |\n",
    "| <<=      | x <<= 3      | x = x << 3  |\n",
    "| :=       | print(x := 3) | x = 3; print(x) |\n"
   ]
  },
  {
   "cell_type": "markdown",
   "id": "5f426161-fad2-40f5-bffe-c1e8cb0e3ff5",
   "metadata": {},
   "source": [
    "### Comparison Operators\n",
    "\n",
    "| Operator | Name                        | Example |\n",
    "|----------|-----------------------------|---------|\n",
    "| ==       | Equal                       | x == y  |\n",
    "| !=       | Not equal                   | x != y  |\n",
    "| >        | Greater than                | x > y   |\n",
    "| <        | Less than                   | x < y   |\n",
    "| >=       | Greater than or equal to    | x >= y  |\n",
    "| <=       | Less than or equal to       | x <= y  |\n"
   ]
  },
  {
   "cell_type": "markdown",
   "id": "ae3b56b0-3b13-4e5d-a296-edb7f2206209",
   "metadata": {},
   "source": [
    "### Logical Operators\n",
    "| Operator | Description                                | Example                  |\n",
    "|----------|--------------------------------------------|--------------------------|\n",
    "| and      | Returns True if both statements are true   | x < 5 and x < 10         |\n",
    "| or       | Returns True if one of the statements is true | x < 5 or x < 4        |\n",
    "| not      | Reverse the result, returns False if the result is true | not(x < 5 and x < 10) |\n"
   ]
  },
  {
   "cell_type": "markdown",
   "id": "1c10b3fe-0c89-473e-b780-10f24e3dc39f",
   "metadata": {},
   "source": [
    "### Identity Operators\n",
    "\n",
    "| Operator | Description                                         | Example    |\n",
    "|----------|-----------------------------------------------------|------------|\n",
    "| is       | Returns True if both variables are the same object  | x is y     |\n",
    "| is not   | Returns True if both variables are not the same object | x is not y |\n"
   ]
  },
  {
   "cell_type": "markdown",
   "id": "eb34f868-2b1c-42be-807f-436ba090fffb",
   "metadata": {},
   "source": [
    "### Membership Operators\n",
    "| Operator | Description                                                        | Example   |\n",
    "|----------|--------------------------------------------------------------------|-----------|\n",
    "| in       | Returns True if a sequence with the specified value is present in the object | x in y   |\n",
    "| not in   | Returns True if a sequence with the specified value is not present in the object | x not in y |\n"
   ]
  },
  {
   "cell_type": "markdown",
   "id": "5596640d-99d4-42ba-bb15-95a2c716c4c8",
   "metadata": {},
   "source": [
    "### Bitwise Operators\n",
    "| Operator | Name                | Description                                                                 | Example  |\n",
    "|----------|---------------------|-----------------------------------------------------------------------------|----------|\n",
    "| &        | AND                 | Sets each bit to 1 if both bits are 1                                       | x & y    |\n",
    "| \\|       | OR                  | Sets each bit to 1 if one of two bits is 1                                  | x \\| y   |\n",
    "| ^        | XOR                 | Sets each bit to 1 if only one of two bits is 1                             | x ^ y    |\n",
    "| ~        | NOT                 | Inverts all the bits                                                        | ~x       |\n",
    "| <<       | Zero fill left shift | Shift left by pushing zeros in from the right and let the leftmost bits fall off | x << 2   |\n",
    "| >>       | Signed right shift   | Shift right by pushing copies of the leftmost bit in from the left, and let the rightmost bits fall off | x >> 2   |\n"
   ]
  },
  {
   "cell_type": "markdown",
   "id": "6d73c1dc-b904-4ad1-a080-1e248d661c47",
   "metadata": {},
   "source": [
    "# Operator Precedence"
   ]
  },
  {
   "cell_type": "code",
   "execution_count": 2,
   "id": "43748597-6e9b-4d34-be2a-c64dd52faf5f",
   "metadata": {},
   "outputs": [
    {
     "name": "stdout",
     "output_type": "stream",
     "text": [
      "0\n"
     ]
    }
   ],
   "source": [
    "print((6 + 3) - (6 + 3))"
   ]
  },
  {
   "cell_type": "code",
   "execution_count": 3,
   "id": "a6036e02-99e4-4086-b10a-12f026139d38",
   "metadata": {},
   "outputs": [
    {
     "name": "stdout",
     "output_type": "stream",
     "text": [
      "115\n"
     ]
    }
   ],
   "source": [
    "print(100 + 5 * 3)"
   ]
  },
  {
   "cell_type": "markdown",
   "id": "127af42d-6511-4efa-b054-62f63efc87df",
   "metadata": {},
   "source": [
    "| Operator                                | Description                                             |\n",
    "|-----------------------------------------|---------------------------------------------------------|\n",
    "| ()                                      | Parentheses                                             |\n",
    "| **                                      | Exponentiation                                          |\n",
    "| +x  -x  ~x                              | Unary plus, unary minus, and bitwise NOT                |\n",
    "| *  /  //  %                             | Multiplication, division, floor division, and modulus   |\n",
    "| +  -                                    | Addition and subtraction                                |\n",
    "| <<  >>                                  | Bitwise left and right shifts                           |\n",
    "| &                                       | Bitwise AND                                             |\n",
    "| ^                                       | Bitwise XOR                                             |\n",
    "| \\|                                      | Bitwise OR                                              |\n",
    "| ==  !=  >  >=  <  <=  is  is not  in  not in | Comparisons, identity, and membership operators   |\n",
    "| not                                     | Logical NOT                                             |\n",
    "| and                                     | Logical AND                                             |\n",
    "| or                                      | Logical OR                                              |\n"
   ]
  },
  {
   "cell_type": "code",
   "execution_count": 4,
   "id": "76697b82-029e-4f4f-9b43-7855531ec708",
   "metadata": {},
   "outputs": [
    {
     "name": "stdout",
     "output_type": "stream",
     "text": [
      "5\n"
     ]
    }
   ],
   "source": [
    "print(5 + 4 - 7 + 3)"
   ]
  }
 ],
 "metadata": {
  "kernelspec": {
   "display_name": "Python 3 (ipykernel)",
   "language": "python",
   "name": "python3"
  },
  "language_info": {
   "codemirror_mode": {
    "name": "ipython",
    "version": 3
   },
   "file_extension": ".py",
   "mimetype": "text/x-python",
   "name": "python",
   "nbconvert_exporter": "python",
   "pygments_lexer": "ipython3",
   "version": "3.13.5"
  }
 },
 "nbformat": 4,
 "nbformat_minor": 5
}
