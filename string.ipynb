{
 "cells": [
  {
   "cell_type": "markdown",
   "id": "86bb9bfa",
   "metadata": {},
   "source": [
    "# Python Strings"
   ]
  },
  {
   "cell_type": "markdown",
   "id": "f31cb59f",
   "metadata": {},
   "source": [
    "- Strings in python are surrounded by either single quotation marks, or double quotation marks."
   ]
  },
  {
   "cell_type": "code",
   "execution_count": 1,
   "id": "b3ad2a46-65d2-4a77-8499-d31e6ab2bb22",
   "metadata": {},
   "outputs": [
    {
     "name": "stdout",
     "output_type": "stream",
     "text": [
      "Hello\n",
      "Hello\n"
     ]
    }
   ],
   "source": [
    "print(\"Hello\")\n",
    "print('Hello')"
   ]
  },
  {
   "cell_type": "code",
   "execution_count": 2,
   "id": "f49c890c-7e79-436d-9edf-1329b97a10a9",
   "metadata": {},
   "outputs": [
    {
     "name": "stdout",
     "output_type": "stream",
     "text": [
      "He is called 'Johnny'\n",
      "He is called \"Johnny\"\n"
     ]
    }
   ],
   "source": [
    "print(\"He is called 'Johnny'\")\n",
    "print('He is called \"Johnny\"')"
   ]
  },
  {
   "cell_type": "code",
   "execution_count": 3,
   "id": "4171d580-c29e-4ec8-a912-41f584d2ed5b",
   "metadata": {},
   "outputs": [
    {
     "name": "stdout",
     "output_type": "stream",
     "text": [
      "Lorem ipsum dolor sit amet,\n",
      "consectetur adipiscing elit,\n",
      "sed do eiusmod tempor incididunt\n",
      "ut labore et dolore magna aliqua.\n"
     ]
    }
   ],
   "source": [
    "a = \"\"\"Lorem ipsum dolor sit amet,\n",
    "consectetur adipiscing elit,\n",
    "sed do eiusmod tempor incididunt\n",
    "ut labore et dolore magna aliqua.\"\"\"\n",
    "print(a)"
   ]
  },
  {
   "cell_type": "code",
   "execution_count": 4,
   "id": "13618b16-48e2-48f4-b472-3ffd7ae68b2f",
   "metadata": {},
   "outputs": [
    {
     "name": "stdout",
     "output_type": "stream",
     "text": [
      "Lorem ipsum dolor sit amet,\n",
      "consectetur adipiscing elit,\n",
      "sed do eiusmod tempor incididunt\n",
      "ut labore et dolore magna aliqua.\n"
     ]
    }
   ],
   "source": [
    "a = '''Lorem ipsum dolor sit amet,\n",
    "consectetur adipiscing elit,\n",
    "sed do eiusmod tempor incididunt\n",
    "ut labore et dolore magna aliqua.'''\n",
    "print(a)"
   ]
  },
  {
   "cell_type": "markdown",
   "id": "b7622b80-aae5-46c1-913c-700e7dabf199",
   "metadata": {},
   "source": [
    "## Strings are Arrays"
   ]
  },
  {
   "cell_type": "code",
   "execution_count": 5,
   "id": "4bebbcd8-a889-4112-8ae2-80febde2e2e5",
   "metadata": {},
   "outputs": [
    {
     "name": "stdout",
     "output_type": "stream",
     "text": [
      "e\n"
     ]
    }
   ],
   "source": [
    "a = \"Hello, World!\"\n",
    "print(a[1])"
   ]
  },
  {
   "cell_type": "code",
   "execution_count": 6,
   "id": "191d270b-8ade-4a39-9dfb-57922ab31348",
   "metadata": {},
   "outputs": [
    {
     "name": "stdout",
     "output_type": "stream",
     "text": [
      "b\n",
      "a\n",
      "n\n",
      "a\n",
      "n\n",
      "a\n"
     ]
    }
   ],
   "source": [
    "for x in \"banana\":\n",
    "  print(x)"
   ]
  },
  {
   "cell_type": "markdown",
   "id": "4aa36c8f-a0dd-4821-b1b7-9120dc225b0b",
   "metadata": {},
   "source": [
    "### Check String \n",
    "- To check if a certain phrase or character is present in a string, we can use the keyword in."
   ]
  },
  {
   "cell_type": "code",
   "execution_count": 7,
   "id": "cad41214-a5a5-4559-91df-185651f817de",
   "metadata": {},
   "outputs": [
    {
     "name": "stdout",
     "output_type": "stream",
     "text": [
      "True\n"
     ]
    }
   ],
   "source": [
    "txt = \"The best things in life are free!\"\n",
    "print(\"free\" in txt)"
   ]
  },
  {
   "cell_type": "code",
   "execution_count": 8,
   "id": "afba02a1-f8ed-40b0-b317-a6b48dfa0638",
   "metadata": {},
   "outputs": [
    {
     "name": "stdout",
     "output_type": "stream",
     "text": [
      "True\n"
     ]
    }
   ],
   "source": [
    "txt = \"The best things in life are free!\"\n",
    "print(\"expensive\" not in txt)"
   ]
  },
  {
   "cell_type": "markdown",
   "id": "a7ef63ad-9412-4bd0-b297-27c976835ff9",
   "metadata": {},
   "source": [
    "## Slicing\n",
    "- You can return a range of characters by using the slice syntax.\n",
    "\n",
    "- Specify the start index and the end index, separated by a colon, to return a part of the string."
   ]
  },
  {
   "cell_type": "code",
   "execution_count": 9,
   "id": "c343245c-34da-432b-8ebb-9ee7c2904483",
   "metadata": {},
   "outputs": [
    {
     "name": "stdout",
     "output_type": "stream",
     "text": [
      "llo\n"
     ]
    }
   ],
   "source": [
    "b = \"Hello, World!\"\n",
    "print(b[2:5])"
   ]
  },
  {
   "cell_type": "code",
   "execution_count": 10,
   "id": "ff838e89-0f20-41b0-819b-c1907b9a58c7",
   "metadata": {},
   "outputs": [
    {
     "name": "stdout",
     "output_type": "stream",
     "text": [
      "Hello\n"
     ]
    }
   ],
   "source": [
    "b = \"Hello, World!\"\n",
    "print(b[:5])"
   ]
  },
  {
   "cell_type": "code",
   "execution_count": 11,
   "id": "e728a048-cfa2-4fa5-88d4-0166e5cdca97",
   "metadata": {},
   "outputs": [
    {
     "name": "stdout",
     "output_type": "stream",
     "text": [
      "Hello,\n"
     ]
    }
   ],
   "source": [
    "b = \"Hello, World!\"\n",
    "print(b[:6])"
   ]
  },
  {
   "cell_type": "code",
   "execution_count": 12,
   "id": "73dedfde-0a34-4483-a222-c2ca45567337",
   "metadata": {},
   "outputs": [
    {
     "name": "stdout",
     "output_type": "stream",
     "text": [
      "llo, World!\n"
     ]
    }
   ],
   "source": [
    "b = \"Hello, World!\"\n",
    "print(b[2:])"
   ]
  },
  {
   "cell_type": "markdown",
   "id": "4dad1432-a7eb-4c42-9cfe-b65444f9a163",
   "metadata": {},
   "source": [
    "### Negative Indexing\n",
    "- Use negative indexes to start the slice from the end of the string:"
   ]
  },
  {
   "cell_type": "code",
   "execution_count": 13,
   "id": "55fd54b6-7cd9-4c26-83ee-25b4c7d1e81b",
   "metadata": {},
   "outputs": [
    {
     "name": "stdout",
     "output_type": "stream",
     "text": [
      "orl\n"
     ]
    }
   ],
   "source": [
    "b = \"Hello, World!\"\n",
    "print(b[-5:-2])"
   ]
  },
  {
   "cell_type": "markdown",
   "id": "af697add-d51d-42db-829d-c19bdcaf53d5",
   "metadata": {},
   "source": [
    "## Modify Strings"
   ]
  },
  {
   "cell_type": "code",
   "execution_count": 14,
   "id": "666a122d-076b-4833-a95b-b81e08b52ad0",
   "metadata": {},
   "outputs": [
    {
     "name": "stdout",
     "output_type": "stream",
     "text": [
      "HELLO, WORLD!\n"
     ]
    }
   ],
   "source": [
    "a = \"Hello, World!\"\n",
    "print(a.upper())"
   ]
  },
  {
   "cell_type": "code",
   "execution_count": 15,
   "id": "98c7b8db-535d-421a-8628-ecd64b0622e3",
   "metadata": {},
   "outputs": [
    {
     "name": "stdout",
     "output_type": "stream",
     "text": [
      "hello, world!\n"
     ]
    }
   ],
   "source": [
    "a = \"Hello, World!\"\n",
    "print(a.lower())"
   ]
  },
  {
   "cell_type": "code",
   "execution_count": 16,
   "id": "10886352-1eae-40bd-b302-4155108df17b",
   "metadata": {},
   "outputs": [
    {
     "name": "stdout",
     "output_type": "stream",
     "text": [
      "Hello, World!\n"
     ]
    }
   ],
   "source": [
    "a = \" Hello, World! \"\n",
    "print(a.strip())\n",
    "# The strip() method removes any whitespace from the beginning or the end:"
   ]
  },
  {
   "cell_type": "code",
   "execution_count": 17,
   "id": "42bf71a4-1bbb-452b-89a4-347b85a49efa",
   "metadata": {},
   "outputs": [
    {
     "name": "stdout",
     "output_type": "stream",
     "text": [
      "Jello, World!\n"
     ]
    }
   ],
   "source": [
    "a = \"Hello, World!\"\n",
    "print(a.replace(\"H\", \"J\"))"
   ]
  },
  {
   "cell_type": "code",
   "execution_count": 18,
   "id": "b91c34a0-fe7e-49dd-af7f-5370595556b3",
   "metadata": {},
   "outputs": [
    {
     "name": "stdout",
     "output_type": "stream",
     "text": [
      "['Hello', ' World!']\n"
     ]
    }
   ],
   "source": [
    "a = \"Hello, World!\"\n",
    "print(a.split(\",\"))"
   ]
  },
  {
   "cell_type": "markdown",
   "id": "e6c54fd1-900c-4c9b-82b7-dae161dd01db",
   "metadata": {},
   "source": [
    "### String Concatenation"
   ]
  },
  {
   "cell_type": "code",
   "execution_count": 19,
   "id": "ae17ca14-0e70-44c1-81ba-762d81e03a9d",
   "metadata": {},
   "outputs": [
    {
     "name": "stdout",
     "output_type": "stream",
     "text": [
      "HelloWorld\n"
     ]
    }
   ],
   "source": [
    "a = \"Hello\"\n",
    "b = \"World\"\n",
    "c = a + b\n",
    "print(c)"
   ]
  },
  {
   "cell_type": "code",
   "execution_count": 20,
   "id": "05811cc2-b368-4aed-9aa6-b35b6702f899",
   "metadata": {},
   "outputs": [
    {
     "name": "stdout",
     "output_type": "stream",
     "text": [
      "Hello World\n"
     ]
    }
   ],
   "source": [
    "a = \"Hello\"\n",
    "b = \"World\"\n",
    "c = a + \" \" + b\n",
    "print(c)"
   ]
  },
  {
   "cell_type": "markdown",
   "id": "18ede05f-bcc8-4d1e-9162-ae10cb15eb53",
   "metadata": {},
   "source": [
    "### String Format"
   ]
  },
  {
   "cell_type": "code",
   "execution_count": 21,
   "id": "b349814e-b46d-48d9-a678-3ae97ef491a3",
   "metadata": {},
   "outputs": [
    {
     "ename": "TypeError",
     "evalue": "can only concatenate str (not \"int\") to str",
     "output_type": "error",
     "traceback": [
      "\u001b[1;31m---------------------------------------------------------------------------\u001b[0m",
      "\u001b[1;31mTypeError\u001b[0m                                 Traceback (most recent call last)",
      "Cell \u001b[1;32mIn[21], line 3\u001b[0m\n\u001b[0;32m      1\u001b[0m age \u001b[38;5;241m=\u001b[39m \u001b[38;5;241m36\u001b[39m\n\u001b[0;32m      2\u001b[0m \u001b[38;5;66;03m#This will produce an error:\u001b[39;00m\n\u001b[1;32m----> 3\u001b[0m txt \u001b[38;5;241m=\u001b[39m \u001b[38;5;124m\"\u001b[39m\u001b[38;5;124mMy name is John, I am \u001b[39m\u001b[38;5;124m\"\u001b[39m \u001b[38;5;241m+\u001b[39m age\n\u001b[0;32m      4\u001b[0m \u001b[38;5;28mprint\u001b[39m(txt)\n",
      "\u001b[1;31mTypeError\u001b[0m: can only concatenate str (not \"int\") to str"
     ]
    }
   ],
   "source": [
    "age = 36\n",
    "#This will produce an error:\n",
    "txt = \"My name is John, I am \" + age\n",
    "print(txt)"
   ]
  },
  {
   "cell_type": "code",
   "execution_count": 22,
   "id": "ccf32abd-cc21-4753-8e17-618b292db74f",
   "metadata": {},
   "outputs": [
    {
     "ename": "TypeError",
     "evalue": "can only concatenate str (not \"set\") to str",
     "output_type": "error",
     "traceback": [
      "\u001b[1;31m---------------------------------------------------------------------------\u001b[0m",
      "\u001b[1;31mTypeError\u001b[0m                                 Traceback (most recent call last)",
      "Cell \u001b[1;32mIn[22], line 3\u001b[0m\n\u001b[0;32m      1\u001b[0m age \u001b[38;5;241m=\u001b[39m \u001b[38;5;241m36\u001b[39m\n\u001b[0;32m      2\u001b[0m \u001b[38;5;66;03m#This will produce an error:\u001b[39;00m\n\u001b[1;32m----> 3\u001b[0m txt \u001b[38;5;241m=\u001b[39m \u001b[38;5;124m\"\u001b[39m\u001b[38;5;124mMy name is John, I am \u001b[39m\u001b[38;5;124m\"\u001b[39m \u001b[38;5;241m+\u001b[39m {age}\n\u001b[0;32m      4\u001b[0m \u001b[38;5;28mprint\u001b[39m(txt)\n",
      "\u001b[1;31mTypeError\u001b[0m: can only concatenate str (not \"set\") to str"
     ]
    }
   ],
   "source": [
    "age = 36\n",
    "#This will produce an error:\n",
    "txt = \"My name is John, I am \" + {age}\n",
    "print(txt)"
   ]
  },
  {
   "cell_type": "code",
   "execution_count": 23,
   "id": "461f5dd0-3b4c-4b40-8835-f701f5b5d966",
   "metadata": {},
   "outputs": [
    {
     "name": "stdout",
     "output_type": "stream",
     "text": [
      "My name is John, I am 36\n"
     ]
    }
   ],
   "source": [
    "age = 36\n",
    "txt = f\"My name is John, I am {age}\"\n",
    "print(txt)"
   ]
  },
  {
   "cell_type": "markdown",
   "id": "1008e2ee-d0e4-4e43-982a-d6b8c2af02f9",
   "metadata": {},
   "source": [
    "### F-Strings\n",
    "- To specify a string as an f-string, simply put an f in front of the string literal, and add curly brackets {} as placeholders for variables and other operations."
   ]
  },
  {
   "cell_type": "code",
   "execution_count": 24,
   "id": "b058de79-9c2c-446c-a84b-0928cb2c0bf2",
   "metadata": {},
   "outputs": [
    {
     "name": "stdout",
     "output_type": "stream",
     "text": [
      "My name is John, I am 36\n"
     ]
    }
   ],
   "source": [
    "age = 36\n",
    "txt = f\"My name is John, I am {age}\"\n",
    "print(txt)"
   ]
  },
  {
   "cell_type": "code",
   "execution_count": 25,
   "id": "68f856c0-97d6-417b-83ed-f93fc172345d",
   "metadata": {},
   "outputs": [
    {
     "name": "stdout",
     "output_type": "stream",
     "text": [
      "The price is 59.00 dollars\n"
     ]
    }
   ],
   "source": [
    "price = 59\n",
    "txt = f\"The price is {price:.2f} dollars\"\n",
    "print(txt)"
   ]
  },
  {
   "cell_type": "code",
   "execution_count": 26,
   "id": "69963dd9-7273-4c46-aad0-ec6023002b66",
   "metadata": {},
   "outputs": [
    {
     "name": "stdout",
     "output_type": "stream",
     "text": [
      "The price is 1180 dollars\n"
     ]
    }
   ],
   "source": [
    "txt = f\"The price is {20 * 59} dollars\"\n",
    "print(txt)"
   ]
  },
  {
   "cell_type": "markdown",
   "id": "43966bcf-fb2c-451a-9f83-fa28b1abfe64",
   "metadata": {},
   "source": [
    "### Escape Character\n",
    "- To insert characters that are illegal in a string, use an escape character.\n",
    "- An escape character is a backslash \\ followed by the character you want to insert."
   ]
  },
  {
   "cell_type": "code",
   "execution_count": 27,
   "id": "89b1d4ab-f274-41eb-8d14-b8a18cd05b98",
   "metadata": {},
   "outputs": [
    {
     "ename": "SyntaxError",
     "evalue": "invalid syntax (7934146.py, line 1)",
     "output_type": "error",
     "traceback": [
      "\u001b[1;36m  Cell \u001b[1;32mIn[27], line 1\u001b[1;36m\u001b[0m\n\u001b[1;33m    txt = \"We are the so-called \"Vikings\" from the north.\"\u001b[0m\n\u001b[1;37m                                 ^\u001b[0m\n\u001b[1;31mSyntaxError\u001b[0m\u001b[1;31m:\u001b[0m invalid syntax\n"
     ]
    }
   ],
   "source": [
    "txt = \"We are the so-called \"Vikings\" from the north.\""
   ]
  },
  {
   "cell_type": "code",
   "execution_count": 28,
   "id": "4c2aac20-dc7a-44c9-9871-ed09da6ef1d5",
   "metadata": {},
   "outputs": [
    {
     "name": "stdout",
     "output_type": "stream",
     "text": [
      "We are the so-called \"Vikings\" from the north.\n"
     ]
    }
   ],
   "source": [
    "txt = \"We are the so-called \\\"Vikings\\\" from the north.\"\n",
    "print(txt)"
   ]
  },
  {
   "cell_type": "markdown",
   "id": "f3e8dcb2-96d3-4155-9dec-4094dcff3f10",
   "metadata": {},
   "source": [
    "#### Space characters\n",
    "- \"\\'\"\t    Single Quote\t\n",
    "- \"\\\\\"\t    Backslash\t\n",
    "- \"\\n\"\t    New Line\t\n",
    "- \"\\r\"\t    Carriage Return\t\n",
    "- \"\\t\"\t    Tab\t\n",
    "- \"\\b\"\t    Backspace\t\n",
    "- \"\\f\"\t    Form Feed\t\n",
    "- \"\\ooo\"\tOctal value\t\n",
    "- \"\\xhh\"\tHex value"
   ]
  },
  {
   "cell_type": "markdown",
   "id": "2d011de0-ff1a-4b15-8a34-36d078dadf3e",
   "metadata": {},
   "source": [
    "### String methods"
   ]
  },
  {
   "cell_type": "markdown",
   "id": "0270bc13-18bf-4b81-ac19-6f3fd31f42bd",
   "metadata": {},
   "source": [
    "capitalize()    Converts the first character to upper case.\n",
    "\n",
    "casefold()      Converts string into lower case.\n",
    "\n",
    "center()        Returns a centered string.\n",
    "\n",
    "count()         Returns the number of times a specified value occurs in a string.\n",
    "\n",
    "encode()        Returns an encoded version of the string.\n",
    "\n",
    "endswith()      Returns True if the string ends with the specified value.\n",
    "\n",
    "expandtabs()    Sets the tab size of the string.\n",
    "\n",
    "find()          Searches the string for a specified value and returns the position of where it was found.\n",
    "\n",
    "format()        Formats specified values in a string.\n",
    "\n",
    "format_map()    Formats specified values in a string.\n",
    "\n",
    "index()         Searches the string for a specified value and returns the position of where it was found.\n",
    "\n",
    "isalnum()       Returns True if all characters in the string are alphanumeric.\n",
    "\n",
    "isalpha()       Returns True if all characters in the string are in the alphabet.\n",
    "\n",
    "isascii()       Returns True if all characters in the string are ascii characters.\n",
    "\n",
    "isdecimal()     Returns True if all characters in the string are decimals.\n",
    "\n",
    "isdigit()       Returns True if all characters in the string are digits.\n",
    "\n",
    "isidentifier()  Returns True if the string is an identifier.\n",
    "\n",
    "islower()       Returns True if all characters in the string are lower case.\n",
    "\n",
    "isnumeric()     Returns True if all characters in the string are numeric.\n",
    "\n",
    "isprintable()   Returns True if all characters in the string are printable.\n",
    "\n",
    "isspace()       Returns True if all characters in the string are whitespaces.\n",
    "\n",
    "istitle()       Returns True if the string follows the rules of a title.\n",
    "\n",
    "isupper()       Returns True if all characters in the string are upper case.\n",
    "\n",
    "join()          Joins the elements of an iterable to the end of the string.\n",
    "\n",
    "ljust()         Returns a left justified version of the string.\n",
    "\n",
    "lower()         Converts a string into lower case.\n",
    "\n",
    "lstrip()        Returns a left trim version of the string.\n",
    "\n",
    "maketrans()     Returns a translation table to be used in translations.\n",
    "\n",
    "partition()     Returns a tuple where the string is parted into three parts.\n",
    "\n",
    "replace()       Returns a string where a specified value is replaced with a specified value.\n",
    "\n",
    "rfind()         Searches the string for a specified value and returns the last position of where it was found.\n",
    "\n",
    "rindex()        Searches the string for a specified value and returns the last position of where it was found.\n",
    "\n",
    "rjust()         Returns a right justified version of the string.\n",
    "\n",
    "rpartition()    Returns a tuple where the string is parted into three parts.\n",
    "\n",
    "rsplit()        Splits the string at the specified separator, and returns a list.\n",
    "\n",
    "rstrip()        Returns a right trim version of the string.\n",
    "\n",
    "split()         Splits the string at the specified separator, and returns a list.\n",
    "\n",
    "splitlines()    Splits the string at line breaks and returns a list.\n",
    "\n",
    "\n",
    "Sources\n"
   ]
  }
 ],
 "metadata": {
  "kernelspec": {
   "display_name": "Python 3 (ipykernel)",
   "language": "python",
   "name": "python3"
  },
  "language_info": {
   "codemirror_mode": {
    "name": "ipython",
    "version": 3
   },
   "file_extension": ".py",
   "mimetype": "text/x-python",
   "name": "python",
   "nbconvert_exporter": "python",
   "pygments_lexer": "ipython3",
   "version": "3.13.5"
  }
 },
 "nbformat": 4,
 "nbformat_minor": 5
}
