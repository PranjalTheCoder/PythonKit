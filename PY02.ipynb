# Indentation
Indentation refers to the spaces or tabs at the beginning of a code line
print("hello")
if 5 > 2:
 print("Five is greater than two!") 
if 5 > 2:
        print("Five is greater than two!") 
if 5 > 2:
 print("Five is greater than two!") 
# if 5 > 2:
        print("Five is greater than two!") 
if 5 > 2:
 print("Five is greater than two!") 
 print("Five is greater than two!") 
# Comments
Comments starts with a #
#This is a comment
print("Hello, World!")
# Mutli Line Comments
"""
This is a comment
written in
more than just one line
"""
print("Hello, World!")
# Variables
### Variables are containers for storing data values.

x = 5
y = "John"
print(x)
print(y)
A variable is created the moment you first assign a value to it.
Variables do not need to be declared with any particular type, and can even change type after they have been set.
x = 4       # x is of type int
print(x)
x = "Sally" # x is now of type str
print(x)
# Casting
If you want to specify the data type of a variable
x = str(3)    # x will be '3'
y = int(3)    # y will be 3
z = float(3)  # z will be 3.0
print(x)
print(y)
print(z)
x = 5
y = "John"
print(type(x))
print(type(y))
x = 5
y = "John"
type(x)
type(y)
# String
x = "John"
# is the same as
x = 'John'
Variable names are case-sensitive.
a = 4
A = "Sally"
#A will not overwrite a
print(a)
print(A)

# Variable Names
A variable can have a short name (like x and y) or a more descriptive name (age, carname, total_volume).

Rules for Python variables:

#### A variable name must start with a letter or the underscore character
#### A variable name cannot start with a number
#### A variable name can only contain alpha-numeric characters and underscores (A-z, 0-9, and _ )
#### Variable names are case-sensitive (age, Age and AGE are three different variables)
#### A variable name cannot be any of the Python keywords.
myvar = "John"
my_var = "John"
_my_var = "John"
myVar = "John"
MYVAR = "John"
myvar2 = "John"
### Camel Case
myVariableName = "John"
### Pascal Case
MyVariableName = "John"
### Snake Case
my_variable_name = "John"
x, y, z = "Orange", "Banana", "Cherry"
print(x)
print(y)
print(z)
x = y = z = "Orange"
print(x)
print(y)
print(z)
fruits = ["apple", "banana", "cherry"]
x, y, z = fruits
print(x)
print(y)
print(z)
fruits = ["apple", "banana"]
x, y = fruits
print(x)
print(y)

# Output Variables
x = "Python"
y = "is"
z = "awesome"
print(x, y, z)
x = "Python "
y = "is "
z = "awesome"
print(x + y + z)
x = 5
y = 10
print(x + y)
x = 5
y = "John"
print(x + y)
x = 5
y = "John"
print(x ,y)
# Global Variable
Variables that are created outside of a function (as in all of the examples in the previous pages) are known as global variables.

#### Global variables can be used by everyone, both inside of functions and outside.


x = "awesome"

def myfunc():
  print("Python is " + x)

myfunc()
##### If you create a variable with the same name inside a function, this variable will be local, and can only be used inside the function. The global variable with the same name will remain as it was, global and with the original value.
x = "awesome"

def myfunc():
  x = "fantastic"
  print("Python is " + x)

myfunc()

print("Python is " + x)
## The global Keyword
Normally, when you create a variable inside a function, that variable is local, and can only be used inside that function.

To create a global variable inside a function, you can use the global keyword.
def myfunc():
  global x
  x = "fantastic"

myfunc()
# If you use the global keyword, the variable belongs to the global scope
print("Python is " + x)
###  use the global keyword if you want to change a global variable inside a function.
