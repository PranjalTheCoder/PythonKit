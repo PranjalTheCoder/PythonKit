{
 "cells": [
  {
   "cell_type": "markdown",
   "id": "6850e443",
   "metadata": {},
   "source": [
    "# Python Data Types"
   ]
  },
  {
   "cell_type": "markdown",
   "id": "db2c0f80",
   "metadata": {},
   "source": [
    "## Built-in Data Types"
   ]
  },
  {
   "cell_type": "markdown",
   "id": "af41215d-cbae-4e13-869d-785887166095",
   "metadata": {},
   "source": [
    "\n",
    "- Text Type:\tstr\n",
    "- Numeric Types:\tint, float, complex\n",
    "- Sequence Types:\tlist, tuple, range\n",
    "- Mapping Type:\tdict\n",
    "- Set Types:\tset, frozenset\n",
    "- Boolean Type:\tbool\n",
    "- Binary Types:\tbytes, bytearray, memoryview\n",
    "- None Type: NoneType"
   ]
  },
  {
   "cell_type": "code",
   "execution_count": 1,
   "id": "a5068615-ea7e-4999-8aef-584a46c21fc7",
   "metadata": {},
   "outputs": [],
   "source": [
    "x = \"Hello World\""
   ]
  },
  {
   "cell_type": "code",
   "execution_count": 2,
   "id": "2c542d28-8606-4383-894a-63bbd7d22bf2",
   "metadata": {},
   "outputs": [
    {
     "data": {
      "text/plain": [
       "str"
      ]
     },
     "execution_count": 2,
     "metadata": {},
     "output_type": "execute_result"
    }
   ],
   "source": [
    "type(x)"
   ]
  },
  {
   "cell_type": "code",
   "execution_count": 3,
   "id": "175ffb4d-837f-470b-9451-05e3ddd03b6b",
   "metadata": {},
   "outputs": [],
   "source": [
    "x = 1j"
   ]
  },
  {
   "cell_type": "code",
   "execution_count": 4,
   "id": "de84bb65-3aa5-44e5-8fc8-6782d6a8045a",
   "metadata": {},
   "outputs": [
    {
     "data": {
      "text/plain": [
       "complex"
      ]
     },
     "execution_count": 4,
     "metadata": {},
     "output_type": "execute_result"
    }
   ],
   "source": [
    "type(x)"
   ]
  },
  {
   "cell_type": "code",
   "execution_count": 5,
   "id": "663a145b-60e8-472f-a0e8-05c4801d6236",
   "metadata": {},
   "outputs": [],
   "source": [
    "x = [\"apple\", \"banana\", \"cherry\"]"
   ]
  },
  {
   "cell_type": "code",
   "execution_count": 6,
   "id": "0a9ca404-baa5-4416-9af5-c7b56bc011cd",
   "metadata": {},
   "outputs": [
    {
     "data": {
      "text/plain": [
       "list"
      ]
     },
     "execution_count": 6,
     "metadata": {},
     "output_type": "execute_result"
    }
   ],
   "source": [
    "type(x)"
   ]
  },
  {
   "cell_type": "code",
   "execution_count": 7,
   "id": "d79a5ae8-bf49-41d5-8d5e-f94ec2033bf4",
   "metadata": {},
   "outputs": [],
   "source": [
    "x = (\"apple\", \"banana\", \"cherry\")"
   ]
  },
  {
   "cell_type": "code",
   "execution_count": 8,
   "id": "3294a6cc-0df1-445b-8f16-d48107674007",
   "metadata": {},
   "outputs": [
    {
     "data": {
      "text/plain": [
       "tuple"
      ]
     },
     "execution_count": 8,
     "metadata": {},
     "output_type": "execute_result"
    }
   ],
   "source": [
    "type(x)"
   ]
  },
  {
   "cell_type": "code",
   "execution_count": 9,
   "id": "012cc1a2-003c-4477-aa3a-6ade4f0f1626",
   "metadata": {},
   "outputs": [],
   "source": [
    "x = range(6)"
   ]
  },
  {
   "cell_type": "code",
   "execution_count": 10,
   "id": "e376b31a-7a84-473f-b02b-35723315d8b9",
   "metadata": {},
   "outputs": [
    {
     "data": {
      "text/plain": [
       "range"
      ]
     },
     "execution_count": 10,
     "metadata": {},
     "output_type": "execute_result"
    }
   ],
   "source": [
    "type(x)"
   ]
  },
  {
   "cell_type": "code",
   "execution_count": 11,
   "id": "bd7e1e2e-38ae-4c57-9ff6-eae41a1dbc68",
   "metadata": {},
   "outputs": [],
   "source": [
    "x = {\"name\" : \"John\", \"age\" : 36}"
   ]
  },
  {
   "cell_type": "code",
   "execution_count": 12,
   "id": "52749a5f-c679-4f95-8f1a-81ea9ea80257",
   "metadata": {},
   "outputs": [
    {
     "data": {
      "text/plain": [
       "dict"
      ]
     },
     "execution_count": 12,
     "metadata": {},
     "output_type": "execute_result"
    }
   ],
   "source": [
    "type(x)"
   ]
  },
  {
   "cell_type": "code",
   "execution_count": 13,
   "id": "7fda4bbd-4a21-4728-b479-96c2eae68181",
   "metadata": {},
   "outputs": [],
   "source": [
    "x = {\"apple\", \"banana\", \"cherry\"}"
   ]
  },
  {
   "cell_type": "code",
   "execution_count": 14,
   "id": "91942e9c-daf7-41af-b24b-be13d3c14426",
   "metadata": {},
   "outputs": [
    {
     "data": {
      "text/plain": [
       "set"
      ]
     },
     "execution_count": 14,
     "metadata": {},
     "output_type": "execute_result"
    }
   ],
   "source": [
    "type(x)"
   ]
  },
  {
   "cell_type": "code",
   "execution_count": 15,
   "id": "6eabac4a-9182-4c8e-aa0c-c1be34fe027e",
   "metadata": {},
   "outputs": [],
   "source": [
    "x = frozenset({\"apple\", \"banana\", \"cherry\"})"
   ]
  },
  {
   "cell_type": "code",
   "execution_count": 16,
   "id": "07c6a178-a931-46c6-9554-9e06c363bf17",
   "metadata": {},
   "outputs": [
    {
     "data": {
      "text/plain": [
       "frozenset"
      ]
     },
     "execution_count": 16,
     "metadata": {},
     "output_type": "execute_result"
    }
   ],
   "source": [
    "type(x)"
   ]
  },
  {
   "cell_type": "code",
   "execution_count": 17,
   "id": "24153cfe-aaaa-4280-9dcc-215835838139",
   "metadata": {},
   "outputs": [],
   "source": [
    "x = b\"Hello\""
   ]
  },
  {
   "cell_type": "code",
   "execution_count": 18,
   "id": "d66a545b-9d3a-45b8-98c8-ba2e22125dce",
   "metadata": {},
   "outputs": [
    {
     "data": {
      "text/plain": [
       "bytes"
      ]
     },
     "execution_count": 18,
     "metadata": {},
     "output_type": "execute_result"
    }
   ],
   "source": [
    "type(x)"
   ]
  },
  {
   "cell_type": "code",
   "execution_count": 19,
   "id": "7d22b1c9-d543-4994-b292-4be52dbbedd7",
   "metadata": {},
   "outputs": [],
   "source": [
    "x = bytearray(5)"
   ]
  },
  {
   "cell_type": "code",
   "execution_count": 20,
   "id": "d7c6283b-2b17-4714-8ac1-7f254e0b7a3d",
   "metadata": {},
   "outputs": [
    {
     "data": {
      "text/plain": [
       "bytearray"
      ]
     },
     "execution_count": 20,
     "metadata": {},
     "output_type": "execute_result"
    }
   ],
   "source": [
    "type(x)"
   ]
  },
  {
   "cell_type": "code",
   "execution_count": 21,
   "id": "ec119c45-9ead-4659-9195-761c59a7adf2",
   "metadata": {},
   "outputs": [],
   "source": [
    "x = memoryview(bytes(5))"
   ]
  },
  {
   "cell_type": "code",
   "execution_count": 22,
   "id": "8040db92-f0e6-45ef-b0ea-82212a70b100",
   "metadata": {},
   "outputs": [
    {
     "data": {
      "text/plain": [
       "memoryview"
      ]
     },
     "execution_count": 22,
     "metadata": {},
     "output_type": "execute_result"
    }
   ],
   "source": [
    "type(x)"
   ]
  },
  {
   "cell_type": "code",
   "execution_count": 23,
   "id": "329d28ab-b67e-4dc9-b940-c492051de329",
   "metadata": {},
   "outputs": [],
   "source": [
    "x = None"
   ]
  },
  {
   "cell_type": "code",
   "execution_count": 24,
   "id": "bbe2798a-8109-49af-89a4-dcaeca9d2ea7",
   "metadata": {},
   "outputs": [
    {
     "data": {
      "text/plain": [
       "NoneType"
      ]
     },
     "execution_count": 24,
     "metadata": {},
     "output_type": "execute_result"
    }
   ],
   "source": [
    "type(x)"
   ]
  },
  {
   "cell_type": "markdown",
   "id": "eee5994e-983e-4f9c-828d-b2eb4a7c7f02",
   "metadata": {},
   "source": [
    "## Specific Data Type"
   ]
  },
  {
   "cell_type": "code",
   "execution_count": 25,
   "id": "d5ff9939-a824-43e2-bf53-bdd33fbb3f21",
   "metadata": {},
   "outputs": [],
   "source": [
    "x = str(\"Hello World\")"
   ]
  },
  {
   "cell_type": "code",
   "execution_count": 26,
   "id": "cd8c06e3-0f37-40f5-a771-2032e9aecc5b",
   "metadata": {},
   "outputs": [
    {
     "data": {
      "text/plain": [
       "str"
      ]
     },
     "execution_count": 26,
     "metadata": {},
     "output_type": "execute_result"
    }
   ],
   "source": [
    "type(x)"
   ]
  },
  {
   "cell_type": "code",
   "execution_count": 27,
   "id": "333dca31-77df-4f6a-97ba-062306685be5",
   "metadata": {},
   "outputs": [],
   "source": [
    "x = int(20)"
   ]
  },
  {
   "cell_type": "code",
   "execution_count": 28,
   "id": "6aefc665-b456-45cb-a3c5-0329e550c2c0",
   "metadata": {},
   "outputs": [
    {
     "data": {
      "text/plain": [
       "int"
      ]
     },
     "execution_count": 28,
     "metadata": {},
     "output_type": "execute_result"
    }
   ],
   "source": [
    "type(x)"
   ]
  },
  {
   "cell_type": "code",
   "execution_count": 29,
   "id": "2968e13e-b81f-4eba-b09b-e10829a8094d",
   "metadata": {},
   "outputs": [],
   "source": [
    "x = complex(1j)"
   ]
  },
  {
   "cell_type": "code",
   "execution_count": 30,
   "id": "e7299873-93f5-4104-9dd4-248cf355d41c",
   "metadata": {},
   "outputs": [
    {
     "data": {
      "text/plain": [
       "complex"
      ]
     },
     "execution_count": 30,
     "metadata": {},
     "output_type": "execute_result"
    }
   ],
   "source": [
    "type(x)"
   ]
  },
  {
   "cell_type": "code",
   "execution_count": 31,
   "id": "6b4ed47a-9606-4c8b-b465-b65c9f961014",
   "metadata": {},
   "outputs": [],
   "source": [
    "x = tuple((\"apple\", \"banana\", \"cherry\"))"
   ]
  },
  {
   "cell_type": "code",
   "execution_count": 32,
   "id": "6c87fbdd-4745-4740-a292-648241af8846",
   "metadata": {},
   "outputs": [
    {
     "data": {
      "text/plain": [
       "tuple"
      ]
     },
     "execution_count": 32,
     "metadata": {},
     "output_type": "execute_result"
    }
   ],
   "source": [
    "type(x)"
   ]
  },
  {
   "cell_type": "code",
   "execution_count": 33,
   "id": "5725b0e6-02e7-46da-9b98-01c45da6ad3e",
   "metadata": {},
   "outputs": [],
   "source": [
    "x = frozenset((\"apple\", \"banana\", \"cherry\"))"
   ]
  },
  {
   "cell_type": "code",
   "execution_count": 34,
   "id": "181fe407-3991-4513-9442-0057690cb783",
   "metadata": {},
   "outputs": [
    {
     "data": {
      "text/plain": [
       "frozenset"
      ]
     },
     "execution_count": 34,
     "metadata": {},
     "output_type": "execute_result"
    }
   ],
   "source": [
    "type(x)"
   ]
  },
  {
   "cell_type": "code",
   "execution_count": 35,
   "id": "d704fc0f-72c9-447f-bff7-cf48f2635e2d",
   "metadata": {},
   "outputs": [],
   "source": [
    "x = memoryview(bytes(5))"
   ]
  },
  {
   "cell_type": "code",
   "execution_count": 36,
   "id": "e661741c-80d4-4739-958e-8134fdeb7d72",
   "metadata": {},
   "outputs": [
    {
     "data": {
      "text/plain": [
       "memoryview"
      ]
     },
     "execution_count": 36,
     "metadata": {},
     "output_type": "execute_result"
    }
   ],
   "source": [
    "type(x)"
   ]
  },
  {
   "cell_type": "code",
   "execution_count": 37,
   "id": "eabc5154-9fdd-4471-9fe6-c2c8c55ebc8f",
   "metadata": {},
   "outputs": [
    {
     "ename": "SyntaxError",
     "evalue": "invalid syntax (149972933.py, line 1)",
     "output_type": "error",
     "traceback": [
      "\u001b[1;36m  Cell \u001b[1;32mIn[37], line 1\u001b[1;36m\u001b[0m\n\u001b[1;33m    x = bytearray(5) type(x)\u001b[0m\n\u001b[1;37m                     ^\u001b[0m\n\u001b[1;31mSyntaxError\u001b[0m\u001b[1;31m:\u001b[0m invalid syntax\n"
     ]
    }
   ],
   "source": [
    "x = bytearray(5) type(x)"
   ]
  },
  {
   "cell_type": "code",
   "execution_count": 38,
   "id": "d03e11ad-e79f-423c-8c45-3f91d6a03238",
   "metadata": {},
   "outputs": [
    {
     "data": {
      "text/plain": [
       "memoryview"
      ]
     },
     "execution_count": 38,
     "metadata": {},
     "output_type": "execute_result"
    }
   ],
   "source": [
    "type(x)"
   ]
  },
  {
   "cell_type": "code",
   "execution_count": 39,
   "id": "b5e1b6af-20df-45fb-bb5d-eadd3f2fbc6e",
   "metadata": {},
   "outputs": [],
   "source": [
    "x = bytes(5)"
   ]
  },
  {
   "cell_type": "code",
   "execution_count": 40,
   "id": "bdc6c2b6-b036-413f-8775-e4297cf01a92",
   "metadata": {},
   "outputs": [
    {
     "data": {
      "text/plain": [
       "bytes"
      ]
     },
     "execution_count": 40,
     "metadata": {},
     "output_type": "execute_result"
    }
   ],
   "source": [
    "type(x)"
   ]
  }
 ],
 "metadata": {
  "kernelspec": {
   "display_name": "Python 3 (ipykernel)",
   "language": "python",
   "name": "python3"
  },
  "language_info": {
   "codemirror_mode": {
    "name": "ipython",
    "version": 3
   },
   "file_extension": ".py",
   "mimetype": "text/x-python",
   "name": "python",
   "nbconvert_exporter": "python",
   "pygments_lexer": "ipython3",
   "version": "3.13.5"
  }
 },
 "nbformat": 4,
 "nbformat_minor": 5
}
