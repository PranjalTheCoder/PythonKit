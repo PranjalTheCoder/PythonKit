{
 "cells": [
  {
   "cell_type": "markdown",
   "id": "6850e443",
   "metadata": {},
   "source": [
    "# Python Data Types"
   ]
  },
  {
   "cell_type": "markdown",
   "id": "db2c0f80",
   "metadata": {},
   "source": []
  }
 ],
 "metadata": {
  "language_info": {
   "name": "python"
  }
 },
 "nbformat": 4,
 "nbformat_minor": 5
}
